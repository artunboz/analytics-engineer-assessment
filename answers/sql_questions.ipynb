{
 "cells": [
  {
   "cell_type": "code",
   "id": "initial_id",
   "metadata": {
    "collapsed": true,
    "ExecuteTime": {
     "end_time": "2024-04-21T13:33:08.521176Z",
     "start_time": "2024-04-21T13:33:08.214202Z"
    }
   },
   "source": [
    "import sqlite3\n",
    "\n",
    "import pandas as pd"
   ],
   "outputs": [],
   "execution_count": 1
  },
  {
   "metadata": {
    "ExecuteTime": {
     "end_time": "2024-04-21T13:33:08.645573Z",
     "start_time": "2024-04-21T13:33:08.522840Z"
    }
   },
   "cell_type": "code",
   "source": [
    "df_ad = pd.read_csv('data/ad.csv')\n",
    "df_event = pd.read_csv('data/event.csv')\n",
    "df_event_location = pd.read_csv('data/event_location.csv')"
   ],
   "id": "816f7c392e06f51a",
   "outputs": [],
   "execution_count": 2
  },
  {
   "metadata": {
    "ExecuteTime": {
     "end_time": "2024-04-21T13:33:08.648939Z",
     "start_time": "2024-04-21T13:33:08.646663Z"
    }
   },
   "cell_type": "code",
   "source": "conn = sqlite3.connect(':memory:')",
   "id": "81da47f0c25b1c56",
   "outputs": [],
   "execution_count": 3
  },
  {
   "metadata": {
    "ExecuteTime": {
     "end_time": "2024-04-21T13:33:08.800387Z",
     "start_time": "2024-04-21T13:33:08.649816Z"
    }
   },
   "cell_type": "code",
   "source": [
    "df_ad.to_sql('ad', conn, index=False)\n",
    "df_event.to_sql('event', conn, index=False)\n",
    "df_event_location.to_sql('event_location', conn, index=False)"
   ],
   "id": "db8093038f27298d",
   "outputs": [
    {
     "data": {
      "text/plain": [
       "3515"
      ]
     },
     "execution_count": 4,
     "metadata": {},
     "output_type": "execute_result"
    }
   ],
   "execution_count": 4
  },
  {
   "metadata": {},
   "cell_type": "markdown",
   "source": "### What is the percentage of ads from a Hungarian event location?",
   "id": "e71cdb69c8fd792e"
  },
  {
   "metadata": {
    "ExecuteTime": {
     "end_time": "2024-04-21T13:33:08.804675Z",
     "start_time": "2024-04-21T13:33:08.802521Z"
    }
   },
   "cell_type": "code",
   "source": [
    "query1 = \"\"\"\n",
    "SELECT ROUND((SUM(CASE WHEN event_location.country = 'HU' THEN 1 ELSE 0 END) * 100.0) /\n",
    "             COUNT(*), 2) AS percentage_hu_ads\n",
    "FROM ad\n",
    "         JOIN event ON ad.event_id = event.id\n",
    "         JOIN event_location ON event.location_id = event_location.id;\n",
    "\"\"\""
   ],
   "id": "813fd345b894dc8a",
   "outputs": [],
   "execution_count": 5
  },
  {
   "metadata": {
    "ExecuteTime": {
     "end_time": "2024-04-21T13:33:08.910952Z",
     "start_time": "2024-04-21T13:33:08.805694Z"
    }
   },
   "cell_type": "code",
   "source": [
    "result1 = pd.read_sql_query(query1, conn)\n",
    "result1"
   ],
   "id": "ada87afa60907b44",
   "outputs": [
    {
     "data": {
      "text/plain": [
       "   percentage_hu_ads\n",
       "0               3.05"
      ],
      "text/html": [
       "<div>\n",
       "<style scoped>\n",
       "    .dataframe tbody tr th:only-of-type {\n",
       "        vertical-align: middle;\n",
       "    }\n",
       "\n",
       "    .dataframe tbody tr th {\n",
       "        vertical-align: top;\n",
       "    }\n",
       "\n",
       "    .dataframe thead th {\n",
       "        text-align: right;\n",
       "    }\n",
       "</style>\n",
       "<table border=\"1\" class=\"dataframe\">\n",
       "  <thead>\n",
       "    <tr style=\"text-align: right;\">\n",
       "      <th></th>\n",
       "      <th>percentage_hu_ads</th>\n",
       "    </tr>\n",
       "  </thead>\n",
       "  <tbody>\n",
       "    <tr>\n",
       "      <th>0</th>\n",
       "      <td>3.05</td>\n",
       "    </tr>\n",
       "  </tbody>\n",
       "</table>\n",
       "</div>"
      ]
     },
     "execution_count": 6,
     "metadata": {},
     "output_type": "execute_result"
    }
   ],
   "execution_count": 6
  },
  {
   "metadata": {},
   "cell_type": "markdown",
   "source": [
    "### What is the average original price of events in the Netherlands?\n",
    "\n",
    "2a is the query for when we want to take the average price of all ads in the Netherlands.\n",
    "2b is the query for when we want to first calculate the average price per event and then take the average of those averages.\n",
    "\n",
    "I was not sure which one was asked, so I included both. My guess would be that 2b is asked as it makes more sense.\n",
    "I elaborate on why in the `answers/question_2/2.sql` file."
   ],
   "id": "72b5adac580db6c7"
  },
  {
   "metadata": {
    "ExecuteTime": {
     "end_time": "2024-04-21T13:33:08.914240Z",
     "start_time": "2024-04-21T13:33:08.912112Z"
    }
   },
   "cell_type": "code",
   "source": [
    "query2a= \"\"\"\n",
    "SELECT ROUND(AVG(ad.original_price), 2) AS avg_org_price_nl\n",
    "FROM ad\n",
    "         JOIN event ON ad.event_id = event.id\n",
    "         JOIN event_location ON event.location_id = event_location.id\n",
    "WHERE event_location.country = 'NL';\n",
    "\"\"\""
   ],
   "id": "1eef21668ecf935a",
   "outputs": [],
   "execution_count": 7
  },
  {
   "metadata": {
    "ExecuteTime": {
     "end_time": "2024-04-21T13:33:09.045977Z",
     "start_time": "2024-04-21T13:33:08.915223Z"
    }
   },
   "cell_type": "code",
   "source": [
    "result2a = pd.read_sql_query(query2a, conn)\n",
    "result2a"
   ],
   "id": "de7e2bfeee9c00d2",
   "outputs": [
    {
     "data": {
      "text/plain": [
       "   avg_org_price_nl\n",
       "0           4666.44"
      ],
      "text/html": [
       "<div>\n",
       "<style scoped>\n",
       "    .dataframe tbody tr th:only-of-type {\n",
       "        vertical-align: middle;\n",
       "    }\n",
       "\n",
       "    .dataframe tbody tr th {\n",
       "        vertical-align: top;\n",
       "    }\n",
       "\n",
       "    .dataframe thead th {\n",
       "        text-align: right;\n",
       "    }\n",
       "</style>\n",
       "<table border=\"1\" class=\"dataframe\">\n",
       "  <thead>\n",
       "    <tr style=\"text-align: right;\">\n",
       "      <th></th>\n",
       "      <th>avg_org_price_nl</th>\n",
       "    </tr>\n",
       "  </thead>\n",
       "  <tbody>\n",
       "    <tr>\n",
       "      <th>0</th>\n",
       "      <td>4666.44</td>\n",
       "    </tr>\n",
       "  </tbody>\n",
       "</table>\n",
       "</div>"
      ]
     },
     "execution_count": 8,
     "metadata": {},
     "output_type": "execute_result"
    }
   ],
   "execution_count": 8
  },
  {
   "metadata": {
    "ExecuteTime": {
     "end_time": "2024-04-21T13:33:09.049456Z",
     "start_time": "2024-04-21T13:33:09.047004Z"
    }
   },
   "cell_type": "code",
   "source": [
    "query2b = \"\"\"\n",
    "SELECT ROUND(AVG(event_avg_org_price), 2) AS avg_org_price_nl\n",
    "FROM (SELECT event.id               AS event_id,\n",
    "             AVG(ad.original_price) AS event_avg_org_price\n",
    "      FROM ad\n",
    "               JOIN event ON ad.event_id = event.id\n",
    "               JOIN event_location ON event.location_id = event_location.id\n",
    "      WHERE event_location.country = 'NL'\n",
    "      GROUP BY event.id) AS avg_org_price_per_event_nl;\n",
    "\"\"\""
   ],
   "id": "2a7783b4ed5e2f30",
   "outputs": [],
   "execution_count": 9
  },
  {
   "metadata": {
    "ExecuteTime": {
     "end_time": "2024-04-21T13:33:09.201598Z",
     "start_time": "2024-04-21T13:33:09.050638Z"
    }
   },
   "cell_type": "code",
   "source": [
    "result2b = pd.read_sql_query(query2b, conn)\n",
    "result2b"
   ],
   "id": "9514bed02d1626a9",
   "outputs": [
    {
     "data": {
      "text/plain": [
       "   avg_org_price_nl\n",
       "0           3256.15"
      ],
      "text/html": [
       "<div>\n",
       "<style scoped>\n",
       "    .dataframe tbody tr th:only-of-type {\n",
       "        vertical-align: middle;\n",
       "    }\n",
       "\n",
       "    .dataframe tbody tr th {\n",
       "        vertical-align: top;\n",
       "    }\n",
       "\n",
       "    .dataframe thead th {\n",
       "        text-align: right;\n",
       "    }\n",
       "</style>\n",
       "<table border=\"1\" class=\"dataframe\">\n",
       "  <thead>\n",
       "    <tr style=\"text-align: right;\">\n",
       "      <th></th>\n",
       "      <th>avg_org_price_nl</th>\n",
       "    </tr>\n",
       "  </thead>\n",
       "  <tbody>\n",
       "    <tr>\n",
       "      <th>0</th>\n",
       "      <td>3256.15</td>\n",
       "    </tr>\n",
       "  </tbody>\n",
       "</table>\n",
       "</div>"
      ]
     },
     "execution_count": 10,
     "metadata": {},
     "output_type": "execute_result"
    }
   ],
   "execution_count": 10
  },
  {
   "metadata": {},
   "cell_type": "markdown",
   "source": "### What was the number of sold listings for Pixies concerts?",
   "id": "9ce45dff5b250029"
  },
  {
   "metadata": {
    "ExecuteTime": {
     "end_time": "2024-04-21T13:33:09.205046Z",
     "start_time": "2024-04-21T13:33:09.202642Z"
    }
   },
   "cell_type": "code",
   "source": [
    "query3 = \"\"\"\n",
    "SELECT COUNT(*) AS sold_pixies_listings\n",
    "FROM ad\n",
    "         JOIN event ON ad.event_id = event.id\n",
    "WHERE event.title LIKE '%Pixies%'\n",
    "  AND ad.is_sold = 1;\n",
    "\"\"\""
   ],
   "id": "beb4932aebb5402e",
   "outputs": [],
   "execution_count": 11
  },
  {
   "metadata": {
    "ExecuteTime": {
     "end_time": "2024-04-21T13:33:09.225180Z",
     "start_time": "2024-04-21T13:33:09.205851Z"
    }
   },
   "cell_type": "code",
   "source": [
    "result3 = pd.read_sql_query(query3, conn)\n",
    "result3"
   ],
   "id": "ec3c0d1dfe3f567d",
   "outputs": [
    {
     "data": {
      "text/plain": [
       "   sold_pixies_listings\n",
       "0                    25"
      ],
      "text/html": [
       "<div>\n",
       "<style scoped>\n",
       "    .dataframe tbody tr th:only-of-type {\n",
       "        vertical-align: middle;\n",
       "    }\n",
       "\n",
       "    .dataframe tbody tr th {\n",
       "        vertical-align: top;\n",
       "    }\n",
       "\n",
       "    .dataframe thead th {\n",
       "        text-align: right;\n",
       "    }\n",
       "</style>\n",
       "<table border=\"1\" class=\"dataframe\">\n",
       "  <thead>\n",
       "    <tr style=\"text-align: right;\">\n",
       "      <th></th>\n",
       "      <th>sold_pixies_listings</th>\n",
       "    </tr>\n",
       "  </thead>\n",
       "  <tbody>\n",
       "    <tr>\n",
       "      <th>0</th>\n",
       "      <td>25</td>\n",
       "    </tr>\n",
       "  </tbody>\n",
       "</table>\n",
       "</div>"
      ]
     },
     "execution_count": 12,
     "metadata": {},
     "output_type": "execute_result"
    }
   ],
   "execution_count": 12
  }
 ],
 "metadata": {
  "kernelspec": {
   "display_name": "Python 3",
   "language": "python",
   "name": "python3"
  },
  "language_info": {
   "codemirror_mode": {
    "name": "ipython",
    "version": 2
   },
   "file_extension": ".py",
   "mimetype": "text/x-python",
   "name": "python",
   "nbconvert_exporter": "python",
   "pygments_lexer": "ipython2",
   "version": "2.7.6"
  }
 },
 "nbformat": 4,
 "nbformat_minor": 5
}
